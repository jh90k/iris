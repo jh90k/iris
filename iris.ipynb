{
 "cells": [
  {
   "cell_type": "code",
   "execution_count": 1,
   "metadata": {},
   "outputs": [],
   "source": [
    "# 데이터 읽기\n",
    "from sklearn.datasets import load_iris\n",
    "from sklearn.tree import DecisionTreeClassifier\n",
    "\n",
    "iris = load_iris()"
   ]
  },
  {
   "cell_type": "code",
   "execution_count": 4,
   "metadata": {},
   "outputs": [
    {
     "data": {
      "text/plain": [
       "{'data': array([[5.1, 3.5, 1.4, 0.2],\n",
       "        [4.9, 3. , 1.4, 0.2],\n",
       "        [4.7, 3.2, 1.3, 0.2],\n",
       "        [4.6, 3.1, 1.5, 0.2],\n",
       "        [5. , 3.6, 1.4, 0.2],\n",
       "        [5.4, 3.9, 1.7, 0.4],\n",
       "        [4.6, 3.4, 1.4, 0.3],\n",
       "        [5. , 3.4, 1.5, 0.2],\n",
       "        [4.4, 2.9, 1.4, 0.2],\n",
       "        [4.9, 3.1, 1.5, 0.1],\n",
       "        [5.4, 3.7, 1.5, 0.2],\n",
       "        [4.8, 3.4, 1.6, 0.2],\n",
       "        [4.8, 3. , 1.4, 0.1],\n",
       "        [4.3, 3. , 1.1, 0.1],\n",
       "        [5.8, 4. , 1.2, 0.2],\n",
       "        [5.7, 4.4, 1.5, 0.4],\n",
       "        [5.4, 3.9, 1.3, 0.4],\n",
       "        [5.1, 3.5, 1.4, 0.3],\n",
       "        [5.7, 3.8, 1.7, 0.3],\n",
       "        [5.1, 3.8, 1.5, 0.3],\n",
       "        [5.4, 3.4, 1.7, 0.2],\n",
       "        [5.1, 3.7, 1.5, 0.4],\n",
       "        [4.6, 3.6, 1. , 0.2],\n",
       "        [5.1, 3.3, 1.7, 0.5],\n",
       "        [4.8, 3.4, 1.9, 0.2],\n",
       "        [5. , 3. , 1.6, 0.2],\n",
       "        [5. , 3.4, 1.6, 0.4],\n",
       "        [5.2, 3.5, 1.5, 0.2],\n",
       "        [5.2, 3.4, 1.4, 0.2],\n",
       "        [4.7, 3.2, 1.6, 0.2],\n",
       "        [4.8, 3.1, 1.6, 0.2],\n",
       "        [5.4, 3.4, 1.5, 0.4],\n",
       "        [5.2, 4.1, 1.5, 0.1],\n",
       "        [5.5, 4.2, 1.4, 0.2],\n",
       "        [4.9, 3.1, 1.5, 0.2],\n",
       "        [5. , 3.2, 1.2, 0.2],\n",
       "        [5.5, 3.5, 1.3, 0.2],\n",
       "        [4.9, 3.6, 1.4, 0.1],\n",
       "        [4.4, 3. , 1.3, 0.2],\n",
       "        [5.1, 3.4, 1.5, 0.2],\n",
       "        [5. , 3.5, 1.3, 0.3],\n",
       "        [4.5, 2.3, 1.3, 0.3],\n",
       "        [4.4, 3.2, 1.3, 0.2],\n",
       "        [5. , 3.5, 1.6, 0.6],\n",
       "        [5.1, 3.8, 1.9, 0.4],\n",
       "        [4.8, 3. , 1.4, 0.3],\n",
       "        [5.1, 3.8, 1.6, 0.2],\n",
       "        [4.6, 3.2, 1.4, 0.2],\n",
       "        [5.3, 3.7, 1.5, 0.2],\n",
       "        [5. , 3.3, 1.4, 0.2],\n",
       "        [7. , 3.2, 4.7, 1.4],\n",
       "        [6.4, 3.2, 4.5, 1.5],\n",
       "        [6.9, 3.1, 4.9, 1.5],\n",
       "        [5.5, 2.3, 4. , 1.3],\n",
       "        [6.5, 2.8, 4.6, 1.5],\n",
       "        [5.7, 2.8, 4.5, 1.3],\n",
       "        [6.3, 3.3, 4.7, 1.6],\n",
       "        [4.9, 2.4, 3.3, 1. ],\n",
       "        [6.6, 2.9, 4.6, 1.3],\n",
       "        [5.2, 2.7, 3.9, 1.4],\n",
       "        [5. , 2. , 3.5, 1. ],\n",
       "        [5.9, 3. , 4.2, 1.5],\n",
       "        [6. , 2.2, 4. , 1. ],\n",
       "        [6.1, 2.9, 4.7, 1.4],\n",
       "        [5.6, 2.9, 3.6, 1.3],\n",
       "        [6.7, 3.1, 4.4, 1.4],\n",
       "        [5.6, 3. , 4.5, 1.5],\n",
       "        [5.8, 2.7, 4.1, 1. ],\n",
       "        [6.2, 2.2, 4.5, 1.5],\n",
       "        [5.6, 2.5, 3.9, 1.1],\n",
       "        [5.9, 3.2, 4.8, 1.8],\n",
       "        [6.1, 2.8, 4. , 1.3],\n",
       "        [6.3, 2.5, 4.9, 1.5],\n",
       "        [6.1, 2.8, 4.7, 1.2],\n",
       "        [6.4, 2.9, 4.3, 1.3],\n",
       "        [6.6, 3. , 4.4, 1.4],\n",
       "        [6.8, 2.8, 4.8, 1.4],\n",
       "        [6.7, 3. , 5. , 1.7],\n",
       "        [6. , 2.9, 4.5, 1.5],\n",
       "        [5.7, 2.6, 3.5, 1. ],\n",
       "        [5.5, 2.4, 3.8, 1.1],\n",
       "        [5.5, 2.4, 3.7, 1. ],\n",
       "        [5.8, 2.7, 3.9, 1.2],\n",
       "        [6. , 2.7, 5.1, 1.6],\n",
       "        [5.4, 3. , 4.5, 1.5],\n",
       "        [6. , 3.4, 4.5, 1.6],\n",
       "        [6.7, 3.1, 4.7, 1.5],\n",
       "        [6.3, 2.3, 4.4, 1.3],\n",
       "        [5.6, 3. , 4.1, 1.3],\n",
       "        [5.5, 2.5, 4. , 1.3],\n",
       "        [5.5, 2.6, 4.4, 1.2],\n",
       "        [6.1, 3. , 4.6, 1.4],\n",
       "        [5.8, 2.6, 4. , 1.2],\n",
       "        [5. , 2.3, 3.3, 1. ],\n",
       "        [5.6, 2.7, 4.2, 1.3],\n",
       "        [5.7, 3. , 4.2, 1.2],\n",
       "        [5.7, 2.9, 4.2, 1.3],\n",
       "        [6.2, 2.9, 4.3, 1.3],\n",
       "        [5.1, 2.5, 3. , 1.1],\n",
       "        [5.7, 2.8, 4.1, 1.3],\n",
       "        [6.3, 3.3, 6. , 2.5],\n",
       "        [5.8, 2.7, 5.1, 1.9],\n",
       "        [7.1, 3. , 5.9, 2.1],\n",
       "        [6.3, 2.9, 5.6, 1.8],\n",
       "        [6.5, 3. , 5.8, 2.2],\n",
       "        [7.6, 3. , 6.6, 2.1],\n",
       "        [4.9, 2.5, 4.5, 1.7],\n",
       "        [7.3, 2.9, 6.3, 1.8],\n",
       "        [6.7, 2.5, 5.8, 1.8],\n",
       "        [7.2, 3.6, 6.1, 2.5],\n",
       "        [6.5, 3.2, 5.1, 2. ],\n",
       "        [6.4, 2.7, 5.3, 1.9],\n",
       "        [6.8, 3. , 5.5, 2.1],\n",
       "        [5.7, 2.5, 5. , 2. ],\n",
       "        [5.8, 2.8, 5.1, 2.4],\n",
       "        [6.4, 3.2, 5.3, 2.3],\n",
       "        [6.5, 3. , 5.5, 1.8],\n",
       "        [7.7, 3.8, 6.7, 2.2],\n",
       "        [7.7, 2.6, 6.9, 2.3],\n",
       "        [6. , 2.2, 5. , 1.5],\n",
       "        [6.9, 3.2, 5.7, 2.3],\n",
       "        [5.6, 2.8, 4.9, 2. ],\n",
       "        [7.7, 2.8, 6.7, 2. ],\n",
       "        [6.3, 2.7, 4.9, 1.8],\n",
       "        [6.7, 3.3, 5.7, 2.1],\n",
       "        [7.2, 3.2, 6. , 1.8],\n",
       "        [6.2, 2.8, 4.8, 1.8],\n",
       "        [6.1, 3. , 4.9, 1.8],\n",
       "        [6.4, 2.8, 5.6, 2.1],\n",
       "        [7.2, 3. , 5.8, 1.6],\n",
       "        [7.4, 2.8, 6.1, 1.9],\n",
       "        [7.9, 3.8, 6.4, 2. ],\n",
       "        [6.4, 2.8, 5.6, 2.2],\n",
       "        [6.3, 2.8, 5.1, 1.5],\n",
       "        [6.1, 2.6, 5.6, 1.4],\n",
       "        [7.7, 3. , 6.1, 2.3],\n",
       "        [6.3, 3.4, 5.6, 2.4],\n",
       "        [6.4, 3.1, 5.5, 1.8],\n",
       "        [6. , 3. , 4.8, 1.8],\n",
       "        [6.9, 3.1, 5.4, 2.1],\n",
       "        [6.7, 3.1, 5.6, 2.4],\n",
       "        [6.9, 3.1, 5.1, 2.3],\n",
       "        [5.8, 2.7, 5.1, 1.9],\n",
       "        [6.8, 3.2, 5.9, 2.3],\n",
       "        [6.7, 3.3, 5.7, 2.5],\n",
       "        [6.7, 3. , 5.2, 2.3],\n",
       "        [6.3, 2.5, 5. , 1.9],\n",
       "        [6.5, 3. , 5.2, 2. ],\n",
       "        [6.2, 3.4, 5.4, 2.3],\n",
       "        [5.9, 3. , 5.1, 1.8]]),\n",
       " 'target': array([0, 0, 0, 0, 0, 0, 0, 0, 0, 0, 0, 0, 0, 0, 0, 0, 0, 0, 0, 0, 0, 0,\n",
       "        0, 0, 0, 0, 0, 0, 0, 0, 0, 0, 0, 0, 0, 0, 0, 0, 0, 0, 0, 0, 0, 0,\n",
       "        0, 0, 0, 0, 0, 0, 1, 1, 1, 1, 1, 1, 1, 1, 1, 1, 1, 1, 1, 1, 1, 1,\n",
       "        1, 1, 1, 1, 1, 1, 1, 1, 1, 1, 1, 1, 1, 1, 1, 1, 1, 1, 1, 1, 1, 1,\n",
       "        1, 1, 1, 1, 1, 1, 1, 1, 1, 1, 1, 1, 2, 2, 2, 2, 2, 2, 2, 2, 2, 2,\n",
       "        2, 2, 2, 2, 2, 2, 2, 2, 2, 2, 2, 2, 2, 2, 2, 2, 2, 2, 2, 2, 2, 2,\n",
       "        2, 2, 2, 2, 2, 2, 2, 2, 2, 2, 2, 2, 2, 2, 2, 2, 2, 2]),\n",
       " 'target_names': array(['setosa', 'versicolor', 'virginica'], dtype='<U10'),\n",
       " 'DESCR': '.. _iris_dataset:\\n\\nIris plants dataset\\n--------------------\\n\\n**Data Set Characteristics:**\\n\\n    :Number of Instances: 150 (50 in each of three classes)\\n    :Number of Attributes: 4 numeric, predictive attributes and the class\\n    :Attribute Information:\\n        - sepal length in cm\\n        - sepal width in cm\\n        - petal length in cm\\n        - petal width in cm\\n        - class:\\n                - Iris-Setosa\\n                - Iris-Versicolour\\n                - Iris-Virginica\\n                \\n    :Summary Statistics:\\n\\n    ============== ==== ==== ======= ===== ====================\\n                    Min  Max   Mean    SD   Class Correlation\\n    ============== ==== ==== ======= ===== ====================\\n    sepal length:   4.3  7.9   5.84   0.83    0.7826\\n    sepal width:    2.0  4.4   3.05   0.43   -0.4194\\n    petal length:   1.0  6.9   3.76   1.76    0.9490  (high!)\\n    petal width:    0.1  2.5   1.20   0.76    0.9565  (high!)\\n    ============== ==== ==== ======= ===== ====================\\n\\n    :Missing Attribute Values: None\\n    :Class Distribution: 33.3% for each of 3 classes.\\n    :Creator: R.A. Fisher\\n    :Donor: Michael Marshall (MARSHALL%PLU@io.arc.nasa.gov)\\n    :Date: July, 1988\\n\\nThe famous Iris database, first used by Sir R.A. Fisher. The dataset is taken\\nfrom Fisher\\'s paper. Note that it\\'s the same as in R, but not as in the UCI\\nMachine Learning Repository, which has two wrong data points.\\n\\nThis is perhaps the best known database to be found in the\\npattern recognition literature.  Fisher\\'s paper is a classic in the field and\\nis referenced frequently to this day.  (See Duda & Hart, for example.)  The\\ndata set contains 3 classes of 50 instances each, where each class refers to a\\ntype of iris plant.  One class is linearly separable from the other 2; the\\nlatter are NOT linearly separable from each other.\\n\\n.. topic:: References\\n\\n   - Fisher, R.A. \"The use of multiple measurements in taxonomic problems\"\\n     Annual Eugenics, 7, Part II, 179-188 (1936); also in \"Contributions to\\n     Mathematical Statistics\" (John Wiley, NY, 1950).\\n   - Duda, R.O., & Hart, P.E. (1973) Pattern Classification and Scene Analysis.\\n     (Q327.D83) John Wiley & Sons.  ISBN 0-471-22361-1.  See page 218.\\n   - Dasarathy, B.V. (1980) \"Nosing Around the Neighborhood: A New System\\n     Structure and Classification Rule for Recognition in Partially Exposed\\n     Environments\".  IEEE Transactions on Pattern Analysis and Machine\\n     Intelligence, Vol. PAMI-2, No. 1, 67-71.\\n   - Gates, G.W. (1972) \"The Reduced Nearest Neighbor Rule\".  IEEE Transactions\\n     on Information Theory, May 1972, 431-433.\\n   - See also: 1988 MLC Proceedings, 54-64.  Cheeseman et al\"s AUTOCLASS II\\n     conceptual clustering system finds 3 classes in the data.\\n   - Many, many more ...',\n",
       " 'feature_names': ['sepal length (cm)',\n",
       "  'sepal width (cm)',\n",
       "  'petal length (cm)',\n",
       "  'petal width (cm)'],\n",
       " 'filename': '/Users/jungheekang/anaconda3/lib/python3.7/site-packages/sklearn/datasets/data/iris.csv'}"
      ]
     },
     "execution_count": 4,
     "metadata": {},
     "output_type": "execute_result"
    }
   ],
   "source": [
    "iris"
   ]
  },
  {
   "cell_type": "code",
   "execution_count": 2,
   "metadata": {},
   "outputs": [],
   "source": [
    "# 데이터 분리(분할)\n",
    "from sklearn.model_selection import train_test_split\n",
    "X_train, X_test, y_train, y_test = train_test_split(iris.data, iris.target, test_size=0.3, random_state=1, stratify=iris.target)\n",
    "# train_test_split의 iris.data는 분할시킬 x(꽃잎 길이 등)&y(붓꽃 종류)데이터,\n",
    "# test_size : 학습 데이터셋의 비율이나 갯수\n",
    "# random_state : 데이터 분할 시 셔플이 이루어지는데 이를 위한 시드값(셔플은 기본적으로 True)\n",
    "# Stratify : 지정한 데이터의 비율을 유지. \n",
    "# 예를 들어, Label Set인 Y가 25%의 0과 75%의 1로 이루어진 Binary Set일 때, stratify=Y로 설정하면 나누어진 데이터셋들도 0과 1을 각각 25%, 75%로 유지한 채 분할된다."
   ]
  },
  {
   "cell_type": "code",
   "execution_count": 3,
   "metadata": {},
   "outputs": [
    {
     "name": "stdout",
     "output_type": "stream",
     "text": [
      "(array([0, 1, 2]), array([35, 35, 35]))\n",
      "(array([0, 1, 2]), array([15, 15, 15]))\n"
     ]
    }
   ],
   "source": [
    "# 데이터 갯수 확인\n",
    "import numpy as np\n",
    "print(np.unique(y_train, return_counts=True))\n",
    "print(np.unique(y_test, return_counts=True))"
   ]
  },
  {
   "cell_type": "code",
   "execution_count": 5,
   "metadata": {},
   "outputs": [],
   "source": [
    "# 데이터 표준화\n",
    "from sklearn.preprocessing import StandardScaler\n",
    "\n",
    "sc = StandardScaler()\n",
    "sc.fit(X_train)\n",
    "x_train_sd = sc.transform(X_train)\n",
    "x_test_sd = sc.transform(X_test)"
   ]
  },
  {
   "cell_type": "code",
   "execution_count": 7,
   "metadata": {},
   "outputs": [
    {
     "data": {
      "text/plain": [
       "array([[-0.4301064 ,  2.63118533, -1.33269725, -1.30728421],\n",
       "       [-0.55053619,  0.76918392, -1.16537974, -1.30728421],\n",
       "       [ 0.65376173,  0.30368356,  0.84243039,  1.44587881],\n",
       "       [ 1.0150511 ,  0.53643374,  1.0655204 ,  1.18367281],\n",
       "       [-1.03225536,  0.30368356, -1.44424226, -1.30728421],\n",
       "       [ 1.0150511 ,  0.07093339,  1.0097479 ,  1.57698181],\n",
       "       [ 2.09891923, -0.16181679,  1.56747294,  1.18367281],\n",
       "       [-0.06881702,  2.16568498, -1.44424226, -1.30728421],\n",
       "       [ 1.61720006, -0.16181679,  1.12129291,  0.5281578 ],\n",
       "       [ 0.89462131, -0.39456697,  0.45202286,  0.1348488 ],\n",
       "       [-1.03225536, -1.79106803, -0.27301968, -0.2584602 ],\n",
       "       [-0.79139578, -0.86006732,  0.06161534,  0.2659518 ],\n",
       "       [-1.39354474,  0.30368356, -1.38846976, -1.30728421],\n",
       "       [ 0.29247235, -0.62731714,  0.50779537,  0.0037458 ],\n",
       "       [-0.4301064 , -1.32556767,  0.11738784,  0.1348488 ],\n",
       "       [-0.06881702, -0.86006732,  0.73088538,  0.92146681],\n",
       "       [-1.27311494,  0.76918392, -1.05383474, -1.30728421],\n",
       "       [-1.03225536, -2.48931856, -0.16147468, -0.2584602 ],\n",
       "       [-0.06881702, -0.86006732,  0.06161534,  0.0037458 ],\n",
       "       [-1.39354474,  0.30368356, -1.22115225, -1.30728421],\n",
       "       [ 0.41290214, -0.62731714,  0.56356787,  0.79036381],\n",
       "       [ 2.21934902, -1.0928175 ,  1.73479045,  1.44587881],\n",
       "       [ 0.65376173,  0.30368356,  0.39625036,  0.3970548 ],\n",
       "       [-0.18924682, -0.62731714,  0.39625036,  0.1348488 ],\n",
       "       [-0.4301064 , -1.55831785,  0.00584283, -0.1273572 ],\n",
       "       [ 0.53333194,  0.76918392,  1.0097479 ,  1.57698181],\n",
       "       [ 0.29247235, -0.39456697,  0.50779537,  0.2659518 ],\n",
       "       [ 0.29247235, -1.0928175 ,  1.0097479 ,  0.2659518 ],\n",
       "       [ 0.77419152, -0.16181679,  1.12129291,  1.31477581],\n",
       "       [-0.06881702, -0.62731714,  0.73088538,  1.57698181],\n",
       "       [-0.18924682, -0.62731714,  0.17316034,  0.1348488 ],\n",
       "       [-0.91182557,  1.46743445, -1.27692475, -1.04507821],\n",
       "       [ 2.21934902,  1.70018463,  1.62324544,  1.31477581],\n",
       "       [ 0.53333194, -1.32556767,  0.67511288,  0.92146681],\n",
       "       [ 0.17204256, -0.16181679,  0.56356787,  0.79036381],\n",
       "       [ 0.65376173, -0.62731714,  1.0097479 ,  1.18367281],\n",
       "       [ 0.05161277, -0.16181679,  0.22893285,  0.3970548 ],\n",
       "       [ 2.21934902, -0.62731714,  1.62324544,  1.05256981],\n",
       "       [ 0.65376173,  0.07093339,  0.9539754 ,  0.79036381],\n",
       "       [-0.91182557,  1.70018463, -1.22115225, -1.30728421],\n",
       "       [ 0.53333194, -0.86006732,  0.61934037,  0.79036381],\n",
       "       [-0.79139578,  0.76918392, -1.33269725, -1.30728421],\n",
       "       [ 0.53333194, -0.62731714,  0.73088538,  0.3970548 ],\n",
       "       [-0.91182557,  1.70018463, -1.05383474, -1.04507821],\n",
       "       [-1.51397453,  1.23468427, -1.55578727, -1.30728421],\n",
       "       [ 0.53333194, -1.32556767,  0.61934037,  0.3970548 ],\n",
       "       [-1.15268515,  0.07093339, -1.27692475, -1.30728421],\n",
       "       [-1.8752639 , -0.16181679, -1.50001477, -1.43838721],\n",
       "       [ 0.77419152, -0.16181679,  0.9539754 ,  0.79036381],\n",
       "       [ 1.0150511 ,  0.07093339,  0.50779537,  0.3970548 ],\n",
       "       [-0.18924682,  1.70018463, -1.16537974, -1.17618121],\n",
       "       [-0.18924682, -1.0928175 , -0.16147468, -0.2584602 ],\n",
       "       [-0.06881702, -0.86006732,  0.17316034, -0.2584602 ],\n",
       "       [-0.91182557,  0.76918392, -1.27692475, -1.30728421],\n",
       "       [-0.55053619,  1.46743445, -1.27692475, -1.30728421],\n",
       "       [-0.79139578,  1.0019341 , -1.27692475, -1.30728421],\n",
       "       [-0.4301064 , -1.55831785, -0.04992967, -0.2584602 ],\n",
       "       [ 1.61720006,  1.23468427,  1.28861042,  1.70808482],\n",
       "       [-1.03225536,  1.0019341 , -1.38846976, -1.17618121],\n",
       "       [ 1.25591069,  0.07093339,  0.61934037,  0.3970548 ],\n",
       "       [-1.75483411, -0.16181679, -1.38846976, -1.30728421],\n",
       "       [ 0.17204256,  0.76918392,  0.39625036,  0.5281578 ],\n",
       "       [ 1.61720006,  0.30368356,  1.23283791,  0.79036381],\n",
       "       [-1.27311494,  0.07093339, -1.22115225, -1.30728421],\n",
       "       [-1.03225536,  0.53643374, -1.33269725, -1.30728421],\n",
       "       [-0.4301064 , -1.0928175 ,  0.34047786,  0.0037458 ],\n",
       "       [-0.06881702, -0.86006732,  0.73088538,  0.92146681],\n",
       "       [-0.30967661, -0.39456697, -0.10570217,  0.1348488 ],\n",
       "       [-0.30967661, -0.16181679,  0.17316034,  0.1348488 ],\n",
       "       [ 0.05161277,  0.30368356,  0.56356787,  0.79036381],\n",
       "       [ 2.21934902, -0.16181679,  1.28861042,  1.44587881],\n",
       "       [ 0.17204256, -0.39456697,  0.39625036,  0.3970548 ],\n",
       "       [-0.55053619, -0.16181679,  0.39625036,  0.3970548 ],\n",
       "       [ 1.25591069,  0.07093339,  0.89820289,  1.18367281],\n",
       "       [ 0.65376173, -0.62731714,  1.0097479 ,  1.31477581],\n",
       "       [ 0.29247235, -0.16181679,  0.45202286,  0.2659518 ],\n",
       "       [-0.55053619,  0.76918392, -1.27692475, -1.04507821],\n",
       "       [-0.91182557,  0.53643374, -1.16537974, -0.91397521],\n",
       "       [ 1.85805965, -0.62731714,  1.28861042,  0.92146681],\n",
       "       [ 0.17204256, -0.86006732,  0.73088538,  0.5281578 ],\n",
       "       [ 2.46020861,  1.70018463,  1.45592793,  1.05256981],\n",
       "       [ 0.17204256, -2.02381821,  0.67511288,  0.3970548 ],\n",
       "       [-0.67096598,  1.46743445, -1.27692475, -1.30728421],\n",
       "       [-0.18924682, -0.39456697,  0.22893285,  0.1348488 ],\n",
       "       [ 0.77419152,  0.30368356,  0.73088538,  1.05256981],\n",
       "       [ 0.53333194,  0.53643374,  1.23283791,  1.70808482],\n",
       "       [-0.91182557,  1.70018463, -1.27692475, -1.17618121],\n",
       "       [-1.03225536,  1.23468427, -1.33269725, -1.30728421],\n",
       "       [ 0.53333194, -0.39456697,  1.0097479 ,  0.79036381],\n",
       "       [-0.91182557,  1.0019341 , -1.33269725, -1.17618121],\n",
       "       [ 1.1354809 ,  0.30368356,  1.17706541,  1.44587881],\n",
       "       [-0.30967661, -1.32556767,  0.06161534, -0.1273572 ],\n",
       "       [-0.18924682, -0.16181679,  0.22893285,  0.0037458 ],\n",
       "       [ 0.41290214, -0.39456697,  0.28470535,  0.1348488 ],\n",
       "       [-0.79139578,  2.39843516, -1.27692475, -1.43838721],\n",
       "       [ 1.0150511 , -0.16181679,  0.78665788,  1.44587881],\n",
       "       [ 0.53333194, -1.79106803,  0.34047786,  0.1348488 ],\n",
       "       [-0.4301064 ,  1.0019341 , -1.38846976, -1.30728421],\n",
       "       [-1.27311494, -0.16181679, -1.33269725, -1.17618121],\n",
       "       [ 1.0150511 , -0.16181679,  0.67511288,  0.65926081],\n",
       "       [-1.63440432, -1.79106803, -1.38846976, -1.17618121],\n",
       "       [-0.06881702, -1.0928175 ,  0.11738784,  0.0037458 ],\n",
       "       [-1.03225536,  0.76918392, -1.22115225, -1.04507821],\n",
       "       [-1.51397453,  0.07093339, -1.27692475, -1.30728421],\n",
       "       [-1.75483411,  0.30368356, -1.38846976, -1.30728421]])"
      ]
     },
     "execution_count": 7,
     "metadata": {},
     "output_type": "execute_result"
    }
   ],
   "source": [
    "x_train_sd"
   ]
  },
  {
   "cell_type": "code",
   "execution_count": 8,
   "metadata": {},
   "outputs": [
    {
     "data": {
      "text/plain": [
       "Perceptron(alpha=0.0001, class_weight=None, early_stopping=False, eta0=0.1,\n",
       "           fit_intercept=True, max_iter=100, n_iter_no_change=10, n_jobs=None,\n",
       "           penalty=None, random_state=13, shuffle=True, tol=0.001,\n",
       "           validation_fraction=0.1, verbose=0, warm_start=False)"
      ]
     },
     "execution_count": 8,
     "metadata": {},
     "output_type": "execute_result"
    }
   ],
   "source": [
    "# 모델 생성\n",
    "from sklearn.linear_model import Perceptron\n",
    "\n",
    "clf = Perceptron(max_iter = 100, eta0 = 0.1, random_state=13, n_iter_no_change = 10)\n",
    "clf.fit(x_train_sd, y_train)"
   ]
  },
  {
   "cell_type": "code",
   "execution_count": 11,
   "metadata": {},
   "outputs": [
    {
     "name": "stdout",
     "output_type": "stream",
     "text": [
      "Train Accuracy :  0.9619047619047619\n",
      "Test Accuracy :  0.9777777777777777\n",
      "Train Confusion Matrix :  [[35  0  0]\n",
      " [ 0 33  2]\n",
      " [ 0  2 33]]\n",
      "Test Confusion Matrix :  [[15  0  0]\n",
      " [ 0 15  0]\n",
      " [ 0  1 14]]\n"
     ]
    }
   ],
   "source": [
    "# 학습 결과\n",
    "from sklearn.metrics import accuracy_score,confusion_matrix\n",
    "\n",
    "print(\"Train Accuracy : \", accuracy_score(y_train, clf.predict(x_train_sd)))\n",
    "print(\"Test Accuracy : \", accuracy_score(y_test, clf.predict(x_test_sd)))\n",
    "print(\"Train Confusion Matrix : \", confusion_matrix(y_train, clf.predict(x_train_sd)))\n",
    "print(\"Test Confusion Matrix : \", confusion_matrix(y_test, clf.predict(x_test_sd)))"
   ]
  },
  {
   "cell_type": "markdown",
   "metadata": {},
   "source": [
    "## 로지스틱 회귀를 이용한 iris 분류"
   ]
  },
  {
   "cell_type": "code",
   "execution_count": 12,
   "metadata": {},
   "outputs": [],
   "source": [
    "# 데이터 읽기\n",
    "from sklearn.datasets import load_iris\n",
    "from sklearn.tree import DecisionTreeClassifier\n",
    "\n",
    "iris = load_iris()"
   ]
  },
  {
   "cell_type": "code",
   "execution_count": 29,
   "metadata": {},
   "outputs": [],
   "source": [
    "# 데이터 분리\n",
    "from sklearn.model_selection import train_test_split\n",
    "X_train, X_test, y_train, y_test = train_test_split(iris.data, iris.target, test_size = 0.3, random_state = 1, \n",
    "                                                   stratify = iris.target)"
   ]
  },
  {
   "cell_type": "code",
   "execution_count": 30,
   "metadata": {},
   "outputs": [
    {
     "name": "stdout",
     "output_type": "stream",
     "text": [
      "(array([0, 1, 2]), array([35, 35, 35]))\n",
      "(array([0, 1, 2]), array([15, 15, 15]))\n"
     ]
    }
   ],
   "source": [
    "# 데이터 갯수 확인\n",
    "import numpy as np\n",
    "print(np.unique(y_train, return_counts = True))\n",
    "print(np.unique(y_test, return_counts = True))"
   ]
  },
  {
   "cell_type": "code",
   "execution_count": 31,
   "metadata": {},
   "outputs": [],
   "source": [
    "# 데이터 표준화\n",
    "from sklearn.preprocessing import StandardScaler\n",
    "\n",
    "sc = StandardScaler()\n",
    "sc.fit(X_train)\n",
    "x_train_sd = sc.transform(X_train)\n",
    "x_test_sd = sc.transform(X_test)"
   ]
  },
  {
   "cell_type": "code",
   "execution_count": 32,
   "metadata": {},
   "outputs": [
    {
     "data": {
      "text/plain": [
       "LogisticRegression(C=10.0, class_weight=None, dual=False, fit_intercept=True,\n",
       "                   intercept_scaling=1, l1_ratio=None, max_iter=100,\n",
       "                   multi_class='auto', n_jobs=None, penalty='l2',\n",
       "                   random_state=13, solver='liblinear', tol=0.0001, verbose=0,\n",
       "                   warm_start=False)"
      ]
     },
     "execution_count": 32,
     "metadata": {},
     "output_type": "execute_result"
    }
   ],
   "source": [
    "# 로지스틱 회귀 모델 생성\n",
    "from sklearn.linear_model import LogisticRegression\n",
    "\n",
    "clf_lr = LogisticRegression(solver = 'liblinear', multi_class = 'auto', C = 10.0, random_state = 13)\n",
    "clf_lr.fit(x_train_sd, y_train)"
   ]
  },
  {
   "cell_type": "code",
   "execution_count": 33,
   "metadata": {},
   "outputs": [
    {
     "data": {
      "text/plain": [
       "array([[5.33348043e-04, 8.98457442e-02, 9.09620908e-01]])"
      ]
     },
     "execution_count": 33,
     "metadata": {},
     "output_type": "execute_result"
    }
   ],
   "source": [
    "# 클래스별 확률 값 출력\n",
    "clf_lr.predict_proba(x_test_sd[0].reshape(1,-1))"
   ]
  },
  {
   "cell_type": "code",
   "execution_count": 35,
   "metadata": {},
   "outputs": [
    {
     "name": "stdout",
     "output_type": "stream",
     "text": [
      "Train Accuracy :  0.9428571428571428\n",
      "Test Accuracy :  0.9777777777777777\n",
      "Train Confusion Matrix :  [[35  0  0]\n",
      " [ 0 32  3]\n",
      " [ 0  3 32]]\n",
      "Test Confusion Matrix :  [[15  0  0]\n",
      " [ 0 15  0]\n",
      " [ 0  1 14]]\n"
     ]
    }
   ],
   "source": [
    "# 학습 결과\n",
    "from sklearn.metrics import accuracy_score,confusion_matrix\n",
    "\n",
    "print(\"Train Accuracy : \", accuracy_score(y_train, clf_lr.predict(x_train_sd)))\n",
    "print(\"Test Accuracy : \", accuracy_score(y_test, clf_lr.predict(x_test_sd)))\n",
    "print(\"Train Confusion Matrix : \", confusion_matrix(y_train, clf_lr.predict(x_train_sd)))\n",
    "print(\"Test Confusion Matrix : \", confusion_matrix(y_test, clf_lr.predict(x_test_sd)))"
   ]
  },
  {
   "cell_type": "markdown",
   "metadata": {},
   "source": [
    "## Support Vector Machine을 이용한 iris 분류"
   ]
  },
  {
   "cell_type": "code",
   "execution_count": 36,
   "metadata": {},
   "outputs": [],
   "source": [
    "# 데이터 읽기\n",
    "from sklearn.datasets import load_iris\n",
    "from sklearn.tree import DecisionTreeClassifier\n",
    "\n",
    "iris = load_iris()"
   ]
  },
  {
   "cell_type": "code",
   "execution_count": 37,
   "metadata": {},
   "outputs": [],
   "source": [
    "# 데이터 분리\n",
    "from sklearn.model_selection import train_test_split\n",
    "\n",
    "X_train, X_test, y_train, y_test = train_test_split(iris.data, iris.target, \n",
    "                                                    test_size=0.3, stratify=iris.target)"
   ]
  },
  {
   "cell_type": "code",
   "execution_count": 39,
   "metadata": {},
   "outputs": [
    {
     "name": "stdout",
     "output_type": "stream",
     "text": [
      "(array([0, 1, 2]), array([35, 35, 35]))\n",
      "(array([0, 1, 2]), array([15, 15, 15]))\n"
     ]
    }
   ],
   "source": [
    "# 데이터 갯수 확인\n",
    "import numpy as np\n",
    "print(np.unique(y_train, return_counts=True))\n",
    "print(np.unique(y_test, return_counts=True))"
   ]
  },
  {
   "cell_type": "code",
   "execution_count": 40,
   "metadata": {},
   "outputs": [],
   "source": [
    "# 데이터 표준화\n",
    "from sklearn.preprocessing import StandardScaler\n",
    "\n",
    "sc = StandardScaler()\n",
    "sc.fit(X_train)\n",
    "x_train_sd = sc.transform(X_train)\n",
    "x_test_sd = sc.transform(X_test)"
   ]
  },
  {
   "cell_type": "code",
   "execution_count": 41,
   "metadata": {},
   "outputs": [
    {
     "data": {
      "text/plain": [
       "SVC(C=1.0, cache_size=200, class_weight=None, coef0=0.0,\n",
       "    decision_function_shape='ovr', degree=3, gamma='auto_deprecated',\n",
       "    kernel='linear', max_iter=-1, probability=False, random_state=13,\n",
       "    shrinking=True, tol=0.001, verbose=False)"
      ]
     },
     "execution_count": 41,
     "metadata": {},
     "output_type": "execute_result"
    }
   ],
   "source": [
    "# 모델 생성\n",
    "from sklearn.svm import SVC\n",
    "\n",
    "clf_svm = SVC(kernel='linear', random_state=13, C=1.0)\n",
    "clf_svm.fit(x_train_sd, y_train)"
   ]
  },
  {
   "cell_type": "code",
   "execution_count": 42,
   "metadata": {},
   "outputs": [
    {
     "name": "stdout",
     "output_type": "stream",
     "text": [
      "Train Accuracy :  0.9809523809523809\n",
      "Test Accruacy :  0.9555555555555556\n",
      "Train Confusion Matrix :  [[35  0  0]\n",
      " [ 0 34  1]\n",
      " [ 0  1 34]]\n",
      "Test Confusion Matrix :  [[15  0  0]\n",
      " [ 0 13  2]\n",
      " [ 0  0 15]]\n"
     ]
    }
   ],
   "source": [
    "# 학습 결과\n",
    "from sklearn.metrics import accuracy_score, confusion_matrix\n",
    "\n",
    "print(\"Train Accuracy : \", accuracy_score(y_train, clf_svm.predict(x_train_sd)))\n",
    "print(\"Test Accruacy : \", accuracy_score(y_test, clf_svm.predict(x_test_sd)))\n",
    "print(\"Train Confusion Matrix : \", confusion_matrix(y_train, clf_svm.predict(x_train_sd)))\n",
    "print(\"Test Confusion Matrix : \", confusion_matrix(y_test, clf_svm.predict(x_test_sd)))"
   ]
  },
  {
   "cell_type": "markdown",
   "metadata": {},
   "source": [
    "## K-NN을 이용한 iris 분류"
   ]
  },
  {
   "cell_type": "code",
   "execution_count": 43,
   "metadata": {},
   "outputs": [],
   "source": [
    "# 데이터 읽기\n",
    "from sklearn.datasets import load_iris\n",
    "from sklearn.tree import DecisionTreeClassifier\n",
    "\n",
    "iris = load_iris()"
   ]
  },
  {
   "cell_type": "code",
   "execution_count": 45,
   "metadata": {},
   "outputs": [],
   "source": [
    "# 데이터 분리\n",
    "from sklearn.model_selection import train_test_split\n",
    "X_train, X_test, y_train, y_test = train_test_split(iris.data, iris.target,\n",
    "                                                   test_size=0.3, random_state=1, stratify=iris.target)"
   ]
  },
  {
   "cell_type": "code",
   "execution_count": 48,
   "metadata": {},
   "outputs": [
    {
     "name": "stdout",
     "output_type": "stream",
     "text": [
      "(array([0, 1, 2]), array([35, 35, 35]))\n",
      "(array([0, 1, 2]), array([15, 15, 15]))\n"
     ]
    }
   ],
   "source": [
    "# 데이터 갯수 확인\n",
    "import numpy as np\n",
    "print(np.unique(y_train, return_counts=True))\n",
    "print(np.unique(y_test, return_counts=True))"
   ]
  },
  {
   "cell_type": "code",
   "execution_count": 50,
   "metadata": {},
   "outputs": [],
   "source": [
    "# 데이터 표준화\n",
    "from sklearn.preprocessing import StandardScaler\n",
    "\n",
    "sc = StandardScaler()\n",
    "sc.fit(X_train)\n",
    "x_train_sd = sc.transform(X_train)\n",
    "x_test_sd = sc.transform(X_test)"
   ]
  },
  {
   "cell_type": "code",
   "execution_count": 52,
   "metadata": {},
   "outputs": [
    {
     "data": {
      "text/plain": [
       "KNeighborsClassifier(algorithm='auto', leaf_size=30, metric='minkowski',\n",
       "                     metric_params=None, n_jobs=None, n_neighbors=5, p=2,\n",
       "                     weights='uniform')"
      ]
     },
     "execution_count": 52,
     "metadata": {},
     "output_type": "execute_result"
    }
   ],
   "source": [
    "# 모델 생성\n",
    "from sklearn.neighbors import KNeighborsClassifier\n",
    "knn = KNeighborsClassifier(n_neighbors=5, p=2)\n",
    "knn.fit(x_train_sd, y_train)"
   ]
  },
  {
   "cell_type": "code",
   "execution_count": 53,
   "metadata": {},
   "outputs": [
    {
     "name": "stdout",
     "output_type": "stream",
     "text": [
      "Train Accuracy: 0.9619047619047619\n",
      "Test Accuracy: 0.9333333333333333\n",
      "Train Confusion Matrix: [[35  0  0]\n",
      " [ 0 33  2]\n",
      " [ 0  2 33]]\n",
      "Test Confusion Matrix: [[15  0  0]\n",
      " [ 0 13  2]\n",
      " [ 0  1 14]]\n"
     ]
    }
   ],
   "source": [
    "# 학습 결과\n",
    "from sklearn.metrics import accuracy_score, confusion_matrix\n",
    "\n",
    "print(\"Train Accuracy:\", accuracy_score(y_train, knn.predict(x_train_sd)))\n",
    "print(\"Test Accuracy:\", accuracy_score(y_test, knn.predict(x_test_sd)))\n",
    "print(\"Train Confusion Matrix:\", confusion_matrix(y_train, knn.predict(x_train_sd)))\n",
    "print(\"Test Confusion Matrix:\", confusion_matrix(y_test, knn.predict(x_test_sd)))"
   ]
  },
  {
   "cell_type": "code",
   "execution_count": null,
   "metadata": {},
   "outputs": [],
   "source": []
  }
 ],
 "metadata": {
  "kernelspec": {
   "display_name": "Python 3",
   "language": "python",
   "name": "python3"
  },
  "language_info": {
   "codemirror_mode": {
    "name": "ipython",
    "version": 3
   },
   "file_extension": ".py",
   "mimetype": "text/x-python",
   "name": "python",
   "nbconvert_exporter": "python",
   "pygments_lexer": "ipython3",
   "version": "3.7.3"
  }
 },
 "nbformat": 4,
 "nbformat_minor": 2
}
